{
  "cells": [
    {
      "metadata": {
        "id": "ZjpjmUmtYI5V"
      },
      "cell_type": "markdown",
      "source": [
        "# Задание 2\n",
        "\n",
        "нужно написать функцию, которая принимает две строки и проверяет, входит ли хотя бы одна перестановка второй строки в первую. Например:\n",
        "\n",
        "> a = 'abcrotm'\n",
        "> \n",
        "> b = 'tro'\n",
        "\n",
        "функция def check_inv(a, b) вернет True, так как 'rot' содержится в 'abcrotm'. Нужно подумать как можно более оптимальный алгоритм и оценить его сложность. "
      ]
    },
    {
      "metadata": {
        "collapsed": true,
        "jupyter": {
          "outputs_hidden": true
        },
        "trusted": false,
        "id": "pnCqInMAYI5X"
      },
      "cell_type": "code",
      "source": [
        "from collections import Counter\n",
        "def check_inv(a, b):\n",
        "    def is_zeros_dist(cdict):\n",
        "        for i in cdict:\n",
        "            if cdict[i]!=0:\n",
        "                return False\n",
        "        return True\n",
        "\n",
        "    count_b=Counter(b)\n",
        "\n",
        "    for i in a:\n",
        "        if i in count_b.keys() and count_b[i]!=0:\n",
        "            count_b[i]-=1\n",
        "        else:\n",
        "            if is_zeros_dist(count_b):\n",
        "                return True\n",
        "            else:\n",
        "                count_b=Counter(b)\n",
        "                if i in count_b.keys() and count_b[i] != 0:\n",
        "                    count_b[i] -= 1\n",
        "    return is_zeros_dist(count_b)"
      ],
      "execution_count": null,
      "outputs": []
    },
    {
      "metadata": {
        "id": "kYkgwK5pYI5e"
      },
      "cell_type": "markdown",
      "source": [
        "# Задание 3\n",
        "\n",
        "Реализовать бинарное дерево (класс Tree), в нём методы __repr__, __str__, __iter__ (итерация только по листьям)."
      ]
    },
    {
      "metadata": {
        "trusted": false,
        "colab": {
          "base_uri": "https://localhost:8080/"
        },
        "id": "Ce1QPlSfYI5f",
        "outputId": "03e3d8c5-bd6c-4aed-d644-2eb86a515b01"
      },
      "cell_type": "code",
      "source": [
        "class Tree:\n",
        "    def __init__(self, value=None, left=None, right=None):\n",
        "        self.left = left\n",
        "        self.right = right\n",
        "        self.value = value\n",
        "\n",
        "    def __iter__(self):\n",
        "        if not self.left and not self.right:\n",
        "            yield self.value\n",
        "        if self.left:\n",
        "            yield from self.left\n",
        "        if self.right:\n",
        "            yield from self.right\n",
        "\n",
        "    def __str__(self):\n",
        "        def prchild(self):\n",
        "            if self.left != None and self.right != None:\n",
        "                str_temp = str(self.value) + '(' + prchild(self.left) + ',' + prchild(self.right) + ')'\n",
        "            elif self.left != None:\n",
        "                str_temp = str(self.value) + '(' + + prchild(self.left) + ')'\n",
        "            elif self.right != None:\n",
        "                str_temp = str(self.value) + '(' + prchild(self.right) + ')'\n",
        "            else:\n",
        "                str_temp = str(self.value)\n",
        "            return str_temp\n",
        "        str1= str(self.value)+'('+prchild(self.left)+','+prchild(self.right)+')'\n",
        "        return str1\n",
        "\n",
        "    def __repr__(self):\n",
        "        def prchild(self):\n",
        "            if self.left != None and self.right != None:\n",
        "                str_temp =self.__class__.__name__+'('+str(self.value)+','+prchild(self.left)+','+prchild(self.right)+')'\n",
        "            elif self.left != None:\n",
        "                str_temp = str(self.value) + '(' + + prchild(self.left) + ')'\n",
        "            elif self.right != None:\n",
        "                str_temp = str(self.value) + '(' + prchild(self.right) + ')'\n",
        "            else:\n",
        "                str_temp = self.__class__.__name__+'('+str(self.value)+')'\n",
        "            return str_temp\n",
        "        return prchild(self)\n",
        "    \n",
        "tree = Tree(0, Tree(1, Tree(3), Tree(4)),                             \n",
        "               Tree(2))\n",
        "\n",
        "list(tree) == [3, 4, 2]"
      ],
      "execution_count": 1,
      "outputs": [
        {
          "output_type": "execute_result",
          "data": {
            "text/plain": [
              "True"
            ]
          },
          "metadata": {},
          "execution_count": 1
        }
      ]
    },
    {
      "metadata": {
        "id": "jfHb3FnXYI5g"
      },
      "cell_type": "markdown",
      "source": [
        "# Задание 4\n",
        "\n",
        "Реализовать простейший калькулятор математических выражений:\n",
        "- только целые числа\n",
        "- **+**, **\\-**, **\\***, **\\**\n",
        "- скобки\n",
        "\n",
        "**Можно использовать регулярные выражения**"
      ]
    },
    {
      "metadata": {
        "trusted": false,
        "colab": {
          "base_uri": "https://localhost:8080/"
        },
        "id": "Fas-VeUvYI5g",
        "outputId": "737fd634-349d-4096-f4b5-b625598bd926"
      },
      "cell_type": "code",
      "source": [
        "def calc(expr):\n",
        "    def do_opr(obj1,obj2,opr):\n",
        "        if opr=='*':\n",
        "            return obj1*obj2\n",
        "        if opr == '/':\n",
        "            return obj1 / obj2\n",
        "        if opr=='+':\n",
        "            return obj1+obj2\n",
        "        if opr=='-':\n",
        "            return obj1-obj2\n",
        "\n",
        "    brack_stec=[]\n",
        "    calc_obj=[]\n",
        "    temp_calc_obj=[]\n",
        "    obj=''\n",
        "    opr_stec=[]\n",
        "    flag=0\n",
        "    i=0\n",
        "    while i<len(expr):\n",
        "        if expr[i]==' ':\n",
        "            pass\n",
        "        elif expr[i] in ['0','1','2','3','4','5','6','7','8','9']:\n",
        "            obj+=expr[i]\n",
        "        elif expr[i] in ['+','-','*', '/']:\n",
        "            if obj!='':\n",
        "                if flag:\n",
        "                    if isinstance(obj,str):\n",
        "                        calc_obj.append(-int(obj))\n",
        "                        obj = ''\n",
        "                    else:\n",
        "                        calc_obj.append(obj)\n",
        "                        obj = ''\n",
        "                    flag=0\n",
        "                else:\n",
        "                    if isinstance(obj,str):\n",
        "                        calc_obj.append(int(obj))\n",
        "                        obj = ''\n",
        "                    else:\n",
        "                        calc_obj.append(obj)\n",
        "                        obj = ''\n",
        "                opr_stec.append(expr[i])\n",
        "            else:\n",
        "                flag=1\n",
        "        elif expr[i]=='(':\n",
        "            brack_stec.append(i)\n",
        "            for j in range(len(expr))[i+1::]:\n",
        "                if expr[j]==')':\n",
        "                    brack_stec.pop()\n",
        "                    if len(brack_stec)==0:\n",
        "                        obj = calc(expr[i + 1:j])\n",
        "                        i = j\n",
        "                        break\n",
        "                if expr[j]=='(':\n",
        "                    brack_stec.append(i)\n",
        "        i+=1\n",
        "    calc_obj.append(int(obj))\n",
        "    opr = opr_stec.pop(0)\n",
        "    while len(calc_obj)!=1:\n",
        "        if opr in ['+','-']:\n",
        "            temp_calc_obj.append(calc_obj.pop(0))\n",
        "            while len(opr_stec)!=0 and opr_stec[0] in ['*','/']:\n",
        "                obj1=calc_obj.pop(0)\n",
        "                obj2=calc_obj.pop(0)\n",
        "                calc_obj.insert(0,do_opr(obj1,obj2,opr_stec.pop(0)))\n",
        "            else:\n",
        "                obj1 = temp_calc_obj.pop()\n",
        "                obj2 = calc_obj.pop(0)\n",
        "                calc_obj.insert(0,do_opr(obj1,obj2,opr))\n",
        "            if len(opr_stec)!=0:\n",
        "                opr = opr_stec.pop(0)\n",
        "        else:\n",
        "            while opr in ['*','/']:\n",
        "                obj1=calc_obj.pop(0)\n",
        "                obj2=calc_obj.pop(0)\n",
        "                calc_obj.insert(0,do_opr(obj1,obj2,opr))\n",
        "                opr=''\n",
        "                if len(opr_stec) != 0:\n",
        "                    opr = opr_stec.pop(0)\n",
        "    return calc_obj.pop()\n",
        "\n",
        "calc('2 * (15 - 3 * 4) - 2') == 4"
      ],
      "execution_count": 2,
      "outputs": [
        {
          "output_type": "execute_result",
          "data": {
            "text/plain": [
              "True"
            ]
          },
          "metadata": {},
          "execution_count": 2
        }
      ]
    },
    {
      "metadata": {
        "collapsed": true,
        "jupyter": {
          "outputs_hidden": true
        },
        "trusted": false,
        "id": "yasse8rWYI5i"
      },
      "cell_type": "code",
      "source": [],
      "execution_count": null,
      "outputs": []
    }
  ],
  "metadata": {
    "kernelspec": {
      "name": "python3",
      "display_name": "Python 3",
      "language": "python"
    },
    "language_info": {
      "name": "python",
      "version": "3.6.11",
      "mimetype": "text/x-python",
      "codemirror_mode": {
        "name": "ipython",
        "version": 3
      },
      "pygments_lexer": "ipython3",
      "nbconvert_exporter": "python",
      "file_extension": ".py"
    },
    "colab": {
      "provenance": [],
      "collapsed_sections": []
    }
  },
  "nbformat": 4,
  "nbformat_minor": 0
}