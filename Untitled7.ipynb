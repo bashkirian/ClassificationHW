{
  "nbformat": 4,
  "nbformat_minor": 0,
  "metadata": {
    "colab": {
      "provenance": [],
      "authorship_tag": "ABX9TyMEXj86DmoSij8XFVE4jHhW",
      "include_colab_link": true
    },
    "kernelspec": {
      "name": "python3",
      "display_name": "Python 3"
    },
    "language_info": {
      "name": "python"
    }
  },
  "cells": [
    {
      "cell_type": "markdown",
      "metadata": {
        "id": "view-in-github",
        "colab_type": "text"
      },
      "source": [
        "<a href=\"https://colab.research.google.com/github/bashkirian/ClassificationHW/blob/main/Untitled7.ipynb\" target=\"_parent\"><img src=\"https://colab.research.google.com/assets/colab-badge.svg\" alt=\"Open In Colab\"/></a>"
      ]
    },
    {
      "cell_type": "markdown",
      "source": [
        "Вход: Файл точек позитивного класса (y = 1) pos.csv и файл точек негативного класса (y = -1) neg.csv. Точки задаются по строкам в виде пары (x1, x2).\n",
        "Выход: Файл с коэффициентами разделяющей поверхности по методу SVM в виде f(x) = c2*x1^2 + c1*x1 + c0, где c2 > 0, с названием seminar06_svm.csv, в котором должны быть записаны следующие поля: c2,c1,c0 в формате comma separated values с обозначением заголовка (полей) в первой строке.\n",
        "\n",
        "Пример содержимого файла seminar06_svm.csv:\n",
        "c2,c1,c0\n",
        "2,-4,1\n"
      ],
      "metadata": {
        "id": "OJScbHHlHTpq"
      }
    },
    {
      "cell_type": "code",
      "source": [
        "import pandas as pd\n",
        "from sklearn import svm\n",
        "import numpy as np\n",
        "\n",
        "# Загрузка данных из файлов\n",
        "try:\n",
        "    pos_data = pd.read_csv('pos.csv', header=None)\n",
        "    neg_data = pd.read_csv('neg.csv', header=None)\n",
        "except Exception as e:\n",
        "    print(\"Ошибка при чтении файлов:\", e)\n",
        "\n",
        "# Проверка данных\n",
        "print(\"Положительный класс:\")\n",
        "print(pos_data.head())\n",
        "print(\"Отрицательный класс:\")\n",
        "print(neg_data.head())\n",
        "\n",
        "# Преобразуем данные в числовой формат\n",
        "try:\n",
        "    X_pos = pos_data.apply(pd.to_numeric, errors='coerce').dropna().values\n",
        "    X_neg = neg_data.apply(pd.to_numeric, errors='coerce').dropna().values\n",
        "except Exception as e:\n",
        "    print(\"Ошибка при преобразовании данных в числовой формат:\", e)\n",
        "\n",
        "# Подготовка данных\n",
        "X = np.vstack((X_pos, X_neg))\n",
        "\n",
        "# Создание меток классов\n",
        "y_pos = np.ones(X_pos.shape[0])\n",
        "y_neg = -1 * np.ones(X_neg.shape[0])\n",
        "y = np.hstack((y_pos, y_neg))\n",
        "\n",
        "# Обучение модели SVM с использованием ядерной функции\n",
        "clf = svm.SVC(kernel='linear')\n",
        "clf.fit(X, y)\n",
        "\n",
        "# Получение коэффициентов разделяющей гиперплоскости\n",
        "w = clf.coef_[0]\n",
        "b = clf.intercept_[0]\n",
        "\n",
        "# Преобразование в формат f(x) = c2*x1^2 + c1*x1 + c0\n",
        "c2 = 0  # Поскольку мы используем линейный SVM\n",
        "c1 = w[0]\n",
        "c0 = b\n",
        "\n",
        "# Запись результатов в файл\n",
        "output_data = pd.DataFrame({'c2': [c2], 'c1': [c1], 'c0': [c0]})\n",
        "output_data.to_csv('seminar06_svm.csv', index=False)"
      ],
      "metadata": {
        "colab": {
          "base_uri": "https://localhost:8080/"
        },
        "id": "2raFOyFXHUDX",
        "outputId": "e20f02c9-ce07-4c3f-aa68-fff775fe6bcd"
      },
      "execution_count": null,
      "outputs": [
        {
          "output_type": "stream",
          "name": "stdout",
          "text": [
            "Положительный класс:\n",
            "    0   1\n",
            "0  x1  x2\n",
            "1   7   0\n",
            "2   9   0\n",
            "Отрицательный класс:\n",
            "    0   1\n",
            "0  x1  x2\n",
            "1   8   0\n"
          ]
        }
      ]
    }
  ]
}